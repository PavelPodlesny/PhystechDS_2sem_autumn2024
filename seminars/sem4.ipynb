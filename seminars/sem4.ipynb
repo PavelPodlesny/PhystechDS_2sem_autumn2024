{
 "cells": [
  {
   "cell_type": "markdown",
   "metadata": {
    "id": "zduL2QSiVQEE"
   },
   "source": [
    "# <a href=\"https://miptstats.github.io/courses/ad_mipt.html\">Phystech@DataScience</a>\n",
    "## Семинар 4\n",
    "## Сегментация\n"
   ]
  },
  {
   "cell_type": "code",
   "execution_count": null,
   "metadata": {
    "id": "HBNTbRK9kPYW"
   },
   "outputs": [],
   "source": [
    "import torch\n",
    "from torch import nn\n",
    "from torch.utils.data import Dataset, DataLoader, RandomSampler, random_split\n",
    "from torch.nn import BCEWithLogitsLoss\n",
    "import numpy as np\n",
    "\n",
    "import torchvision.transforms as tt\n",
    "from PIL import Image\n",
    "import os\n",
    "\n",
    "import lightning.pytorch as pl\n",
    "from torchmetrics.functional import accuracy\n",
    "from lightning.pytorch import loggers as pl_loggers\n",
    "from lightning.pytorch.callbacks import ModelCheckpoint, EarlyStopping\n",
    "\n",
    "import matplotlib.pyplot as plt\n",
    "\n",
    "from tqdm import tqdm\n",
    "from IPython.display import clear_output # для отчистки экрана"
   ]
  },
  {
   "cell_type": "code",
   "execution_count": null,
   "metadata": {},
   "outputs": [],
   "source": [
    "torch.manual_seed(0)\n",
    "np.random.seed(0)"
   ]
  },
  {
   "cell_type": "code",
   "execution_count": null,
   "metadata": {
    "colab": {
     "base_uri": "https://localhost:8080/"
    },
    "id": "ioZX3SPqnMM6",
    "outputId": "df09429b-0230-457f-baca-a9cba06cdc78"
   },
   "outputs": [],
   "source": [
    "device = f\"cuda\" if torch.cuda.is_available() else \"cpu\"\n",
    "# device = \"cpu\"\n",
    "print(device)"
   ]
  },
  {
   "cell_type": "markdown",
   "metadata": {
    "id": "12fT1cPpjl7F"
   },
   "source": [
    "## 1. Релизация метрики IoU\n",
    "Реализуйте метрику IoU. Она вам понадобится далее для оценивания результатов предсказания модели."
   ]
  },
  {
   "cell_type": "markdown",
   "metadata": {},
   "source": [
    "![image.png](data:image/png;base64,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)"
   ]
  },
  {
   "cell_type": "code",
   "execution_count": null,
   "metadata": {},
   "outputs": [],
   "source": [
    "def iou(predicted_mask_batch, target_mask_batch):\n",
    "    \"\"\" Считает среднее IoU для всех элементов батча\n",
    "    predicted_mask_batch - булев тензор размерности (batch_size, 1, H, W) - определяет предсказанную принадлежность пикселя к классу 1\n",
    "    target_mask_batch - булев тензор размерности (batch_size, 1, H, W) - определяет реальную принадлежность пикселя к классу 1\n",
    "    \"\"\"\n",
    "    # Площадь пересечения в пикселях для всех элементов батча\n",
    "    intersection = <посчитайте пересечение с использованием операции &>\n",
    "    # Площадь объединения в пикселях для всех элементов батча\n",
    "    union =  <посчитайте пересечение с использованием операции | >\n",
    "    # Посчитайте IoU для каждого элемента батча, а затем усредните по батчу\n",
    "    iou = <ваш код>\n",
    "    return iou"
   ]
  },
  {
   "cell_type": "code",
   "execution_count": null,
   "metadata": {},
   "outputs": [],
   "source": [
    "predicted_mask_batch = torch.ones((1, 1, 10, 10)).bool()\n",
    "target_mask_batch =  torch.ones((1, 1, 10, 10)).bool()\n",
    "assert torch.allclose(iou(predicted_mask_batch, target_mask_batch), torch.tensor(1.0))"
   ]
  },
  {
   "cell_type": "markdown",
   "metadata": {
    "id": "c47wLlIEckQQ"
   },
   "source": [
    "## 2. Сегментация изображений"
   ]
  },
  {
   "cell_type": "markdown",
   "source": [
    "Попробуем написать неглубокую сеть и сегментировать клетки рака груди. Более подробно про данные можно прочитать [тут:](https://www.kaggle.com/datasets/andrewmvd/breast-cancer-cell-segmentation)\n",
    "\n",
    "Для этого напишем энкодер, который будет применять к входному изображению несколько свёрток, а затем напишем декодер, который по скрытому представлению будет разворачивать картинку с помощью обратных свёрток."
   ],
   "metadata": {
    "collapsed": false
   }
  },
  {
   "cell_type": "code",
   "execution_count": null,
   "outputs": [],
   "source": [
    "!curl -JLO 'https://www.dropbox.com/scl/fi/gs3kzp6b8k6faf667m5tt/breast-cancer-cells-segmentation.zip?rlkey=md3mzikpwrvnaluxnhms7r4zn'\n",
    "!unzip breast-cancer-cells-segmentation.zip"
   ],
   "metadata": {
    "collapsed": false
   }
  },
  {
   "cell_type": "code",
   "execution_count": null,
   "outputs": [],
   "source": [
    "IMAGES_PATH = 'Images'\n",
    "\n",
    "MASKS_PATH = 'Masks'"
   ],
   "metadata": {
    "collapsed": false
   }
  },
  {
   "cell_type": "markdown",
   "source": [
    "Посмотрим на наши данные. Для этого напишем класс датасета:"
   ],
   "metadata": {
    "collapsed": false
   }
  },
  {
   "cell_type": "code",
   "execution_count": null,
   "outputs": [],
   "source": [
    "class CellsDataset(Dataset):\n",
    "    def __init__(self, data_path, mask_path, aug=None):\n",
    "        \"\"\"\n",
    "        Args:\n",
    "            data_path: путь до изображений.\n",
    "            mask_path: путь до масок изображений.\n",
    "        \"\"\"\n",
    "        self.data_path = data_path\n",
    "        self.mask_path = mask_path\n",
    "\n",
    "        # Файлы с изображениями и масками\n",
    "        self.files = list(filter(lambda f: f.endswith('.tif'), os.listdir(self.data_path)))\n",
    "        self.mask_files = list(filter(lambda f: f.endswith('.TIF'), os.listdir(self.mask_path)))\n",
    "        \n",
    "        assert len(self.files) == len(self.mask_files)\n",
    "\n",
    "        self.files.sort()\n",
    "        self.mask_files.sort()\n",
    "\n",
    "        # аугментация из albumentations\n",
    "        self.aug = aug\n",
    "\n",
    "    def __len__(self):\n",
    "        return len(self.files)\n",
    "\n",
    "    def __getitem__(self, idx):\n",
    "        # Загружаем изображение и маску\n",
    "        file_name = os.path.join(self.data_path, self.files[idx])\n",
    "        mask_name = os.path.join(self.mask_path, self.mask_files[idx])\n",
    "\n",
    "        input = np.array(Image.open(file_name), dtype=np.uint8)\n",
    "        target = np.array(Image.open(mask_name), dtype=np.uint8)\n",
    "\n",
    "        # применяем аугментацию\n",
    "        if self.aug:\n",
    "            augmented = self.aug(image=input, mask=target)\n",
    "            input = augmented['image']\n",
    "            target = augmented['mask']\n",
    "        \n",
    "        # исправим порядок размерностей\n",
    "        input = input.transpose(2, 0, 1)\n",
    "\n",
    "        # Приводим к torch tensor\n",
    "        input = torch.tensor(input, dtype=torch.float32)\n",
    "        target = torch.from_numpy(target)\n",
    "\n",
    "        target = (target > 0).int().unsqueeze(0)\n",
    "\n",
    "        return input, target"
   ],
   "metadata": {
    "collapsed": false
   }
  },
  {
   "cell_type": "markdown",
   "source": [
    "Создайте датасет из всех данных.\n",
    "\n",
    "При создании датасета передайте в него преобразование (аргумент aug), переводящее картинки в тензор с размерами 160 на 240. Вам можем помочь преобразование Resize из библиотеки albumentations."
   ],
   "metadata": {
    "collapsed": false
   }
  },
  {
   "cell_type": "code",
   "execution_count": null,
   "metadata": {},
   "outputs": [],
   "source": [
    "dataset = CellsDataset(<ваш код>)"
   ]
  },
  {
   "cell_type": "markdown",
   "source": [
    "Создадим тренировочный и валидационный датасеты:"
   ],
   "metadata": {
    "collapsed": false
   }
  },
  {
   "cell_type": "code",
   "execution_count": null,
   "outputs": [],
   "source": [
    "generator = torch.Generator().manual_seed(42)\n",
    "indices = torch.randperm(len(dataset), generator=generator).tolist()\n",
    "train_dataset = torch.utils.data.Subset(dataset, indices[:-14]) #создадим тренировочный датасет\n",
    "val_dataset = torch.utils.data.Subset(dataset, indices[-14:-7]) #создадим валидационный датасет"
   ],
   "metadata": {
    "collapsed": false
   }
  },
  {
   "cell_type": "markdown",
   "metadata": {},
   "source": [
    "Сколько изображений в каждом из полученных датасетов?"
   ]
  },
  {
   "cell_type": "code",
   "execution_count": null,
   "metadata": {},
   "outputs": [],
   "source": [
    "<ваш код>"
   ]
  },
  {
   "cell_type": "markdown",
   "metadata": {},
   "source": [
    "**Ответ**:"
   ]
  },
  {
   "cell_type": "markdown",
   "source": [
    "Посмотрим на данные:"
   ],
   "metadata": {
    "collapsed": false
   }
  },
  {
   "cell_type": "code",
   "execution_count": null,
   "outputs": [],
   "source": [
    "for i in range(5):\n",
    "    plt.figure(figsize=(15, 7))\n",
    "    \n",
    "    sample = train_dataset[i]\n",
    "    \n",
    "    plt.subplot(1, 2, 1)\n",
    "    plt.title(\"Изображение\")\n",
    "    plt.imshow(sample[0].permute(1, 2, 0).int())\n",
    "    plt.axis(\"off\")\n",
    "    \n",
    "    plt.subplot(1, 2, 2)\n",
    "    plt.title(\"Маска\")\n",
    "    plt.imshow(sample[1].squeeze(), cmap='Greys_r')\n",
    "    plt.axis(\"off\");\n",
    "    \n",
    "    print(\"Значения в маске и количество значений:\", np.unique(train_dataset[i][1], return_counts=True))"
   ],
   "metadata": {
    "collapsed": false
   }
  },
  {
   "cell_type": "markdown",
   "metadata": {},
   "source": [
    "Теперь мы, наконец, готовы перейти к написанию энкодера!\n",
    "\n",
    "Напишем энкодер с тремя слоями свёрток, на каждом слое будем уменьшать вдвое размер изображения.\n",
    "\n",
    "*Подсказка: для получения нужных размеров изображений подберите подходящие разумные значения размера фильтра, padding и stride.*"
   ]
  },
  {
   "cell_type": "code",
   "execution_count": null,
   "metadata": {},
   "outputs": [],
   "source": [
    "class Encoder(torch.nn.Module):\n",
    "    def __init__(self):\n",
    "        super(Encoder, self).__init__()\n",
    "\n",
    "        self.conv1 = torch.nn.Sequential(\n",
    "            <ваш код>\n",
    "        ) # на вход получаем изображение 128x128x3, на выходе после свертки, функции активации и батч-нормализации - 64x64x32\n",
    "\n",
    "        self.conv2 = torch.nn.Sequential(\n",
    "            <ваш код>\n",
    "        ) # на вход получаем изображен 64x64x32, на выходе после свертки, функции активации и батч-нормализации - 32x32x64\n",
    "\n",
    "        self.conv3 = torch.nn.Sequential(\n",
    "            <ваш код>\n",
    "        ) # на вход получаем изображен 32x32x64, на выходе после свертки, функции активации и батч-нормализации - 16x16x128\n",
    "\n",
    "    def forward(self, x):\n",
    "        x = self.conv1(x) # 64 х 64\n",
    "        x = self.conv2(x) # 32 х 32\n",
    "        x = self.conv3(x) # 16 х 16\n",
    "        return x"
   ]
  },
  {
   "cell_type": "markdown",
   "metadata": {},
   "source": [
    "С помощью операции обратной свёртки напишем декодер из трёх слоёв, на каждом из которых размер картинки на выходе будет соответствовать картинке в энкодере. Не забудем добавить нормализацию как в обычной сверточной сети."
   ]
  },
  {
   "cell_type": "code",
   "execution_count": null,
   "metadata": {},
   "outputs": [],
   "source": [
    "class Decoder(torch.nn.Module):\n",
    "    def __init__(self):\n",
    "        super(Decoder, self).__init__()\n",
    "        self.convt1 = torch.nn.Sequential(\n",
    "            <ваш код>,\n",
    "            torch.nn.ReLU(),\n",
    "            torch.nn.BatchNorm2d(<ваш код>)\n",
    "        ) # 16x16x128 -> 32x32x64\n",
    "\n",
    "        self.convt2 = torch.nn.Sequential(\n",
    "            <ваш код>,\n",
    "            torch.nn.ReLU(),\n",
    "            torch.nn.BatchNorm2d(<ваш код>)\n",
    "        )  # 32x32x64 -> 64x64x32\n",
    "\n",
    "        self.convt3 = torch.nn.Sequential(\n",
    "            <ваш код>,\n",
    "            torch.nn.Sigmoid()\n",
    "        )  # 64x64x32 -> 128x128x3\n",
    "\n",
    "    def forward(self, z, test=False):\n",
    "        z = self.convt1(z)\n",
    "        if test:\n",
    "            print(z.shape)\n",
    "\n",
    "        z = self.convt2(z)\n",
    "        if test:\n",
    "            print(z.shape)\n",
    "\n",
    "        z = self.convt3(z)\n",
    "        if test:\n",
    "            print(z.shape)\n",
    "\n",
    "        return z"
   ]
  },
  {
   "cell_type": "markdown",
   "metadata": {},
   "source": [
    "Соединяем всё в одну сеть и запустим процесс обучения."
   ]
  },
  {
   "cell_type": "code",
   "execution_count": null,
   "metadata": {},
   "outputs": [],
   "source": [
    "class Segmentation(torch.nn.Module):\n",
    "    def __init__(self):\n",
    "        super(Segmentation, self).__init__()\n",
    "        self.enc = <ваш код>\n",
    "        self.dec = <ваш код>\n",
    "\n",
    "    def forward(self, x):\n",
    "        z = self.enc(x)\n",
    "        res = self.dec(z)\n",
    "        return res"
   ]
  },
  {
   "cell_type": "markdown",
   "source": [
    "Обернем модель в lightningmodule. Поскольку выход сети будет говорить для каждого пикселя вероятность быть частью маски (насколько пиксель белый), то в качестве функции потерь возьмём попиксельную кросс-энтропию. Так как модель возвращает логиты, возьмем BCEWithLogitsLoss."
   ],
   "metadata": {
    "collapsed": false
   }
  },
  {
   "cell_type": "code",
   "execution_count": null,
   "outputs": [],
   "source": [
    "class SegmentationModel(pl.LightningModule):\n",
    "    def __init__(self, lr=2e-3):\n",
    "        '''Инициализирует модуль\n",
    "        * layer_widths -- список размерностей скрытых слоев в U-Net'''\n",
    "        super().__init__()\n",
    "        self.lr = lr\n",
    "        self.criterion = nn.BCEWithLogitsLoss()\n",
    "        self.save_hyperparameters()\n",
    "        self.model = Segmentation()\n",
    "        self.predictions = []\n",
    "        self.metric = iou\n",
    "\n",
    "    def configure_optimizers(self):\n",
    "        return torch.optim.Adam(self.model.parameters(), lr=self.lr)\n",
    "\n",
    "    def forward(self, x):\n",
    "        return self.model(x)\n",
    "\n",
    "    def __step(self, batch, name):\n",
    "        ''' Описывает 1 шаг обучения на batch\n",
    "        * name -- либо train, либо val'''\n",
    "        images, target = batch\n",
    "        output = <получите предсказание с помощью модели>\n",
    "        loss = <посчитайте лосс> #обратите внимание, какого типа должны быть данные в тензорах?\n",
    "        iou = self.metric(output > 0, target > 0)\n",
    "        self.log(name+'_loss', loss)\n",
    "        self.log(name+'_iou', iou, on_step=False, on_epoch=True)\n",
    "        return loss\n",
    "\n",
    "    def training_step(self, batch, batch_idx):\n",
    "        return self.__step(<ваш код>)\n",
    "\n",
    "    def validation_step(self, batch, batch_idx):\n",
    "        return self.__step(<ваш код>)"
   ],
   "metadata": {
    "collapsed": false
   }
  },
  {
   "cell_type": "markdown",
   "source": [
    "Создадим даталоадеры"
   ],
   "metadata": {
    "collapsed": false
   }
  },
  {
   "cell_type": "code",
   "execution_count": null,
   "outputs": [],
   "source": [
    "batch_size = 4\n",
    "\n",
    "train_sampler = torch.utils.data.RandomSampler(train_dataset)\n",
    "train_dataloader = DataLoader(train_dataset, batch_size=batch_size, sampler=train_sampler)\n",
    "val_dataloader = DataLoader(val_dataset, batch_size=batch_size)"
   ],
   "metadata": {
    "collapsed": false
   }
  },
  {
   "cell_type": "markdown",
   "source": [
    "Объявим trainer и обучим на 50 эпохах:"
   ],
   "metadata": {
    "collapsed": false
   }
  },
  {
   "cell_type": "code",
   "execution_count": null,
   "outputs": [],
   "source": [
    "model = SegmentationModel()\n",
    "checkpoint_callback = pl.callbacks.ModelCheckpoint(monitor='val_iou', mode='max')\n",
    "tb_logger = pl_loggers.TensorBoardLogger(save_dir=\"lightning_logs/simple_encoder_decoder\")\n",
    "trainer = pl.Trainer(<ваш код>)"
   ],
   "metadata": {
    "collapsed": false
   }
  },
  {
   "cell_type": "code",
   "execution_count": null,
   "outputs": [],
   "source": [
    "trainer.fit(<ваш код>)"
   ],
   "metadata": {
    "collapsed": false
   }
  },
  {
   "cell_type": "markdown",
   "metadata": {},
   "source": [
    "Напишем функцию для визуализации процесса обучения. Она будет выводить 4 колонки картинок: изображение, его маску, предсказанную моделью маску, логиты модели."
   ]
  },
  {
   "cell_type": "code",
   "execution_count": null,
   "outputs": [],
   "source": [
    "def vis_dataset(val_dataset, segment_model, n_img=4, savefig_dir=None):\n",
    "    plt.figure(figsize=(20, n_img * 3.5))\n",
    "\n",
    "    for i, (image, mask) in enumerate(val_dataset):\n",
    "        if i == n_img:\n",
    "            break\n",
    "\n",
    "        plt.subplot(n_img, 4, 4 * i + 1)\n",
    "        plt.imshow(image.permute(1, 2, 0).cpu().int())\n",
    "        plt.axis(\"off\")\n",
    "        plt.title(\"Изображение\")\n",
    "\n",
    "        plt.subplot(n_img, 4, 4 * i + 2)\n",
    "        plt.imshow(mask.squeeze().cpu())\n",
    "        plt.axis(\"off\")\n",
    "        plt.title(\"Реальная маска\")\n",
    "\n",
    "        with torch.no_grad():\n",
    "            pred = segment_model(image.unsqueeze(dim=0).to(device)).squeeze().cpu()\n",
    "\n",
    "        plt.subplot(n_img, 4, 4 * i + 3)\n",
    "        plt.imshow(pred > 0.)\n",
    "        plt.axis(\"off\")\n",
    "        plt.title(\"Предсказанная маска\")\n",
    "\n",
    "        plt.subplot(n_img, 4, 4 * i + 4)\n",
    "        plt.imshow(pred)\n",
    "        plt.axis(\"off\")\n",
    "        plt.title(\"Логиты\")\n",
    "\n",
    "    plt.show()"
   ],
   "metadata": {
    "collapsed": false
   }
  },
  {
   "cell_type": "markdown",
   "source": [
    "Посмотрим на результаты"
   ],
   "metadata": {
    "collapsed": false
   }
  },
  {
   "cell_type": "code",
   "execution_count": null,
   "outputs": [],
   "source": [
    "# Отрисовка результатов\n",
    "vis_dataset(val_dataset, model, n_img=4, savefig_dir=None)"
   ],
   "metadata": {
    "collapsed": false
   }
  },
  {
   "cell_type": "markdown",
   "metadata": {},
   "source": [
    "Каких результатов удалось достичь с помощью неглубокой сети? Напишите вывод по графику и примерам изображения."
   ]
  },
  {
   "cell_type": "markdown",
   "metadata": {},
   "source": [
    "**Вывод**:"
   ]
  }
 ],
 "metadata": {
  "accelerator": "GPU",
  "colab": {
   "gpuType": "T4",
   "provenance": []
  },
  "kernelspec": {
   "display_name": "Python 3 (ipykernel)",
   "language": "python",
   "name": "python3"
  },
  "language_info": {
   "codemirror_mode": {
    "name": "ipython",
    "version": 3
   },
   "file_extension": ".py",
   "mimetype": "text/x-python",
   "name": "python",
   "nbconvert_exporter": "python",
   "pygments_lexer": "ipython3",
   "version": "3.9.6"
  },
  "toc": {
   "base_numbering": 1,
   "nav_menu": {},
   "number_sections": true,
   "sideBar": true,
   "skip_h1_title": false,
   "title_cell": "Table of Contents",
   "title_sidebar": "Contents",
   "toc_cell": false,
   "toc_position": {},
   "toc_section_display": true,
   "toc_window_display": false
  }
 },
 "nbformat": 4,
 "nbformat_minor": 1
}
